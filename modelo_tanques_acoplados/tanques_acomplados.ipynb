{
 "cells": [
  {
   "cell_type": "markdown",
   "source": [
    "# Trabalho 1 - Simulação de um sistema não linear e suas caracteristicas\n",
    "\n",
    "## Aluno:\n",
    "- Nome: Felipe Fonseca Rocha\n",
    "- Matrícula: 2015117096\n",
    "\n",
    "## Sistema escolhido\n",
    "O modelo escolhido é o de um deflexão de uma viga com um peso deslocante:\n",
    "\n",
    "$\n",
    "\\ddot{y} = \\frac{P}{EI}(1+(\\dot{y})^2)^{1.5}(L-x)\n",
    "$,\n",
    "\n",
    "Variáveis de estados:\n",
    "\n",
    "$\n",
    "\\dot{y_1} = y_2\n",
    "$\n",
    "\n",
    "$\n",
    "\\dot{y_2} = \\frac{15}{2 \\times 10^5 \\times 25}(1+(y_2)^2)^{1.5}(200 - x)\n",
    "$\n",
    "\n",
    "Os parametros utilizados são\n",
    "\n",
    "## Classificação do sistema\n",
    "\n",
    "| Variável   |    Valor             |\n",
    "|:----------:|:-------------:       |\n",
    "| $P$        |    $ 15 $            |\n",
    "| $E$        |    $ 2\\times 10^5 $  |\n",
    "| $I$        |    $ 25 $            |\n",
    "| $L$        |    $ 20 $            |"
   ],
   "metadata": {
    "collapsed": false,
    "pycharm": {
     "name": "#%% md\n"
    }
   }
  },
  {
   "cell_type": "code",
   "execution_count": 51,
   "metadata": {},
   "outputs": [],
   "source": [
    "import math\n",
    "import random\n",
    "\n",
    "import matplotlib as mpl\n",
    "import matplotlib.pyplot as plt\n",
    "import numpy as np\n",
    "\n",
    "mpl.rcParams['legend.fontsize'] = 10\n",
    "#$\\omega_n = A_1y_1^4 + B_1y_1³ + C_1 y_1² + D_1y_1 + E_1$"
   ]
  },
  {
   "cell_type": "markdown",
   "metadata": {
    "collapsed": false,
    "jupyter": {
     "outputs_hidden": false
    },
    "pycharm": {
     "name": "#%% md\n"
    }
   },
   "source": [
    "### Definição das equações de estado"
   ]
  },
  {
   "cell_type": "code",
   "execution_count": 52,
   "outputs": [],
   "source": [
    "def dvCord(x, ux, uy, t):\n",
    "    # a = 0.258\n",
    "    # b = 4.033\n",
    "    # F = 8\n",
    "    P = 15\n",
    "    E = 2 * (10 ** 5)\n",
    "    I = 25\n",
    "    L = 200\n",
    "\n",
    "    xd = np.array(np.zeros((2, 1)))\n",
    "    A = (P / (E * I))\n",
    "    raiz_cubica = ((1 + x[0] ** 2) ** 1.5)\n",
    "    print(f' A = {A} raiz = {raiz_cubica}')\n",
    "\n",
    "    xd[0] = x[1]\n",
    "    xd[1] = A * raiz_cubica * (L - ux)\n",
    "    return xd.copy()\n"
   ],
   "metadata": {
    "collapsed": false,
    "pycharm": {
     "name": "#%%\n"
    }
   }
  },
  {
   "cell_type": "markdown",
   "metadata": {
    "collapsed": false,
    "jupyter": {
     "outputs_hidden": false
    },
    "pycharm": {
     "name": "#%% md\n"
    }
   },
   "source": [
    "### Definição de Runge-Kutta"
   ]
  },
  {
   "cell_type": "code",
   "execution_count": 53,
   "outputs": [],
   "source": [
    "def rk_cord(x0, ux, uy, h, t):\n",
    "    # 1st evaluation\n",
    "    xd = dvCord(x0, ux, uy, t)\n",
    "    savex0 = x0.copy()\n",
    "    phi = xd.copy()\n",
    "    for i in range(len(x0)):\n",
    "        x0[i] = savex0[i] + 0.5 * h * xd[i]\n",
    "\n",
    "    # 2nd evaluation\n",
    "    xd = dvCord(x0.T, ux, uy, t + 0.5 * h)\n",
    "    phi = (phi + 2 * xd)\n",
    "    for i in range(len(x0)):\n",
    "        x0[i] = savex0[i] + 0.5 * h * xd[i]\n",
    "\n",
    "    # 3rd evaluation\n",
    "    xd = dvCord(x0, ux, uy, t + 0.5 * h)\n",
    "    phi = phi + 2 * xd\n",
    "    for i in range(len(x0)):\n",
    "        x0[i] = savex0[i] + h * xd[i]\n",
    "\n",
    "    # 4th evaluation\n",
    "    xd = dvCord(x0, ux, uy, t + h)\n",
    "\n",
    "    result_x = x0.copy()\n",
    "    for i in range(len(x0)):\n",
    "        result_x[i] = savex0[i] + (phi[i] + xd[i]) * h / 6\n",
    "\n",
    "    return result_x\n"
   ],
   "metadata": {
    "collapsed": false,
    "pycharm": {
     "name": "#%%\n"
    }
   }
  },
  {
   "cell_type": "markdown",
   "metadata": {
    "collapsed": false,
    "jupyter": {
     "outputs_hidden": false
    },
    "pycharm": {
     "name": "#%% md\n"
    }
   },
   "source": [
    "### Plot das funções"
   ]
  },
  {
   "cell_type": "code",
   "source": [
    "def run_rk(t:np.ndarray, x:np.ndarray, u, h):\n",
    "    result = None\n",
    "    for k in range(1, len(t)):\n",
    "        result = rk_cord(x[:, k - 1].copy(), u[k], u[k], h, t[k])\n",
    "        x[:, k] = result\n",
    "    \n",
    "    fig, ax = plt.subplots(constrained_layout=True, figsize=(8, 4))\n",
    "    ax.set(xlabel='time')\n",
    "    ax.set(ylabel='u')\n",
    "    color = ['red', 'green', 'blue', 'yellow', 'orange']\n",
    "    ax.plot(t, u, color=color[random.randint(0, len(color) - 1)])\n",
    "    ax.grid()\n",
    "    fig0, ax0 = plt.subplots(constrained_layout=True, figsize=(8, 4))\n",
    "    ax0.set(xlabel='time')\n",
    "    ax0.set(ylabel='x_1')\n",
    "    color = ['red', 'green', 'blue', 'yellow', 'orange']\n",
    "    ax0.plot(t, x[0, :], color=color[random.randint(0, len(color) - 1)])\n",
    "    ax0.grid()\n",
    "    fig1, ax1 = plt.subplots(constrained_layout=True, figsize=(8, 4))\n",
    "    ax1.set(xlabel='time')\n",
    "    ax1.set(ylabel='x_2')\n",
    "    ax1.plot(t, x[1, :], color=color[random.randint(0, len(color) - 1)])\n",
    "    ax1.grid()\n",
    "    # fig2, ax2 = plt.subplots(constrained_layout=True, figsize=(8, 4))\n",
    "    # ax2.set(xlabel='time')\n",
    "    # ax2.set(ylabel='x_3')\n",
    "    # ax2.plot(t, x[2, :], color=color[random.randint(0, len(color) - 1)])\n",
    "    # ax2.grid()\n",
    "    plt.show()"
   ],
   "metadata": {
    "collapsed": false,
    "pycharm": {
     "name": "#%%\n"
    }
   },
   "execution_count": 54,
   "outputs": []
  },
  {
   "cell_type": "markdown",
   "metadata": {
    "collapsed": false,
    "jupyter": {
     "outputs_hidden": false
    },
    "pycharm": {
     "name": "#%% md\n"
    }
   },
   "source": [
    "### Definições dos parâmetros\n",
    " Os parametros concnetrados do sistema em análise são difinidos a seguir sendo que o $\\mu$ pode\n",
    " definido como muito superior ao valor de refeência para o comportamente do sistema de maneira oscilatóra\n",
    " e bem com uma curva característica."
   ]
  },
  {
   "cell_type": "code",
   "execution_count": 55,
   "outputs": [],
   "source": [
    "t0 = 0\n",
    "tf = 200\n",
    "h = 10\n",
    "t = np.arange(t0, tf, h)\n",
    "\n",
    "# [print(i) for i in t if i < 0.1]\n",
    "\n",
    "x0 = np.array([[0], [0]])\n",
    "\n",
    "z_x = np.zeros((len(x0), len(t) - 1))\n",
    "x = x0.copy()\n",
    "x = np.append(x, z_x, axis=1)\n",
    "\n",
    "# print(x)\n",
    "\n",
    "Ts = 1 / 100\n",
    "omega = (2 * math.pi) / 10\n",
    "U = 1.2\n"
   ],
   "metadata": {
    "collapsed": false,
    "pycharm": {
     "name": "#%%\n"
    }
   }
  },
  {
   "cell_type": "code",
   "execution_count": 56,
   "outputs": [
    {
     "name": "stdout",
     "output_type": "stream",
     "text": [
      "[  0.   0.   0.   0.   0.   0.   0.   0.   0.   0. 200. 200. 200. 200.\n",
      " 200. 200. 200. 200. 200. 200.]\n",
      " A = 3e-06 raiz = 1.0\n",
      " A = 3e-06 raiz = 1.0\n",
      " A = 3e-06 raiz = 1.000337518983663\n",
      " A = 3e-06 raiz = 1.0013503037044527\n",
      " A = 3e-06 raiz = 1.0013506076253134\n",
      " A = 3e-06 raiz = 1.0054072920752164\n",
      " A = 3e-06 raiz = 1.008456973420482\n",
      " A = 3e-06 raiz = 1.021745012346355\n",
      " A = 3e-06 raiz = 1.0217413555471326\n",
      " A = 3e-06 raiz = 1.049233296082154\n",
      " A = 3e-06 raiz = 1.0580338912964886\n",
      " A = 3e-06 raiz = 1.1131573253025688\n",
      " A = 3e-06 raiz = 1.1129992079713584\n",
      " A = 3e-06 raiz = 1.2051953062300749\n",
      " A = 3e-06 raiz = 1.2250960738229688\n",
      " A = 3e-06 raiz = 1.3845392654565345\n",
      " A = 3e-06 raiz = 1.3833505720967243\n",
      " A = 3e-06 raiz = 1.629444236544165\n",
      " A = 3e-06 raiz = 1.6758570792286513\n",
      " A = 3e-06 raiz = 2.0938968691268447\n",
      " A = 3e-06 raiz = 2.0877922782145575\n",
      " A = 3e-06 raiz = 2.725079322357558\n",
      " A = 3e-06 raiz = 2.856133826372036\n",
      " A = 3e-06 raiz = 4.019750609726103\n",
      " A = 3e-06 raiz = 3.9899980849467083\n",
      " A = 3e-06 raiz = 5.832334594179896\n",
      " A = 3e-06 raiz = 6.332627819352949\n",
      " A = 3e-06 raiz = 10.36218635668857\n",
      " A = 3e-06 raiz = 10.193194274618019\n",
      " A = 3e-06 raiz = 17.25701116361003\n",
      " A = 3e-06 raiz = 20.252717365780473\n",
      " A = 3e-06 raiz = 43.06747681166482\n",
      " A = 3e-06 raiz = 41.64691924027926\n",
      " A = 3e-06 raiz = 93.02175675068443\n",
      " A = 3e-06 raiz = 135.96772387314124\n",
      " A = 3e-06 raiz = 586.4360997390579\n",
      " A = 3e-06 raiz = 569.0232962069878\n",
      " A = 3e-06 raiz = 3235.6205706697856\n",
      " A = 3e-06 raiz = 3235.6205706697856\n",
      " A = 3e-06 raiz = 9678.502502114328\n",
      " A = 3e-06 raiz = 9678.502502114328\n",
      " A = 3e-06 raiz = 21568.877605743255\n",
      " A = 3e-06 raiz = 21568.877605743255\n",
      " A = 3e-06 raiz = 40577.960964342135\n",
      " A = 3e-06 raiz = 40577.960964342135\n",
      " A = 3e-06 raiz = 68376.96898921726\n",
      " A = 3e-06 raiz = 68376.96898921726\n",
      " A = 3e-06 raiz = 106637.11850590946\n",
      " A = 3e-06 raiz = 106637.11850590952\n",
      " A = 3e-06 raiz = 157029.626503571\n",
      " A = 3e-06 raiz = 157029.626503571\n",
      " A = 3e-06 raiz = 221225.71004665375\n",
      " A = 3e-06 raiz = 221225.71004665375\n",
      " A = 3e-06 raiz = 300896.58623822365\n",
      " A = 3e-06 raiz = 300896.58623822365\n",
      " A = 3e-06 raiz = 397713.4722028175\n",
      " A = 3e-06 raiz = 397713.4722028175\n",
      " A = 3e-06 raiz = 513347.58507768874\n",
      " A = 3e-06 raiz = 513347.58507768874\n",
      " A = 3e-06 raiz = 649470.1420080115\n",
      " A = 3e-06 raiz = 649470.1420080115\n",
      " A = 3e-06 raiz = 807752.3601441056\n",
      " A = 3e-06 raiz = 807752.3601441056\n",
      " A = 3e-06 raiz = 989865.4566397485\n",
      " A = 3e-06 raiz = 989865.4566397485\n",
      " A = 3e-06 raiz = 1197480.648651115\n",
      " A = 3e-06 raiz = 1197480.648651115\n",
      " A = 3e-06 raiz = 1432269.153336079\n",
      " A = 3e-06 raiz = 1432269.153336079\n",
      " A = 3e-06 raiz = 1695902.187853753\n",
      " A = 3e-06 raiz = 1695902.187853753\n",
      " A = 3e-06 raiz = 1990050.9693641614\n",
      " A = 3e-06 raiz = 1990050.9693641614\n",
      " A = 3e-06 raiz = 2316386.7150280206\n",
      " A = 3e-06 raiz = 2316386.7150280206\n",
      " A = 3e-06 raiz = 2676580.642006571\n"
     ]
    },
    {
     "data": {
      "text/plain": "<Figure size 576x288 with 1 Axes>",
      "image/png": "[encoded data removed]"
     },
     "metadata": {
      "needs_background": "light"
     },
     "output_type": "display_data"
    },
    {
     "data": {
      "text/plain": "<Figure size 576x288 with 1 Axes>",
      "image/png": "[encoded data removed]"
     },
     "metadata": {
      "needs_background": "light"
     },
     "output_type": "display_data"
    },
    {
     "data": {
      "text/plain": "<Figure size 576x288 with 1 Axes>",
      "image/png": "[encoded data removed]"
     },
     "metadata": {
      "needs_background": "light"
     },
     "output_type": "display_data"
    }
   ],
   "source": [
    "# Degrau\n",
    "u = 200 * np.append(np.zeros((math.floor(len(t)/2), 1)), np.full((math.floor(len(t) - len(t)/2), 1), 1))\n",
    "print(u)\n",
    "run_rk(t.copy() ,x.copy(), u.copy() , h)"
   ],
   "metadata": {
    "collapsed": false,
    "pycharm": {
     "name": "#%%\n"
    }
   }
  },
  {
   "cell_type": "code",
   "execution_count": 57,
   "outputs": [
    {
     "name": "stdout",
     "output_type": "stream",
     "text": [
      "[  0.  10.  20.  30.  40.  50.  60.  70.  80.  90. 100. 110. 120. 130.\n",
      " 140. 150. 160. 170. 180. 190.]\n",
      " A = 3e-06 raiz = 1.0\n",
      " A = 3e-06 raiz = 1.0\n",
      " A = 3e-06 raiz = 1.0003046092123689\n",
      " A = 3e-06 raiz = 1.001218622372791\n",
      " A = 3e-06 raiz = 1.0012188699046627\n",
      " A = 3e-06 raiz = 1.0048794392758853\n",
      " A = 3e-06 raiz = 1.0074705755208893\n",
      " A = 3e-06 raiz = 1.0190959766307448\n",
      " A = 3e-06 raiz = 1.019092703405502\n",
      " A = 3e-06 raiz = 1.0428142536065188\n",
      " A = 3e-06 raiz = 1.049733514898523\n",
      " A = 3e-06 raiz = 1.0957082746151847\n",
      " A = 3e-06 raiz = 1.0955975897008572\n",
      " A = 3e-06 raiz = 1.170862387670777\n",
      " A = 3e-06 raiz = 1.185007060651526\n",
      " A = 3e-06 raiz = 1.3092280816828665\n",
      " A = 3e-06 raiz = 1.3085167047451904\n",
      " A = 3e-06 raiz = 1.4941655177671807\n",
      " A = 3e-06 raiz = 1.5225992507726924\n",
      " A = 3e-06 raiz = 1.815244048337514\n",
      " A = 3e-06 raiz = 1.812232827304465\n",
      " A = 3e-06 raiz = 2.2365047630251444\n",
      " A = 3e-06 raiz = 2.3004283486118573\n",
      " A = 3e-06 raiz = 2.9808167465169952\n",
      " A = 3e-06 raiz = 2.969565848588788\n",
      " A = 3e-06 raiz = 3.9618616746387185\n",
      " A = 3e-06 raiz = 4.133613086605205\n",
      " A = 3e-06 raiz = 5.837776639926658\n",
      " A = 3e-06 raiz = 5.7947660946750466\n",
      " A = 3e-06 raiz = 8.370888670455667\n",
      " A = 3e-06 raiz = 8.946963095006142\n",
      " A = 3e-06 raiz = 13.999470855163812\n",
      " A = 3e-06 raiz = 13.810154704629063\n",
      " A = 3e-06 raiz = 22.0373956417578\n",
      " A = 3e-06 raiz = 24.651056673203993\n",
      " A = 3e-06 raiz = 45.283652910788106\n",
      " A = 3e-06 raiz = 44.16392493347759\n",
      " A = 3e-06 raiz = 83.11559185620926\n",
      " A = 3e-06 raiz = 102.97215096200355\n",
      " A = 3e-06 raiz = 265.92169957818646\n",
      " A = 3e-06 raiz = 254.39417163138359\n",
      " A = 3e-06 raiz = 699.4482407397719\n",
      " A = 3e-06 raiz = 1185.8674496667138\n",
      " A = 3e-06 raiz = 9064.033086108278\n",
      " A = 3e-06 raiz = 9308.688035376515\n",
      " A = 3e-06 raiz = 149174.83595151492\n",
      " A = 3e-06 raiz = 1290849.4229099362\n",
      " A = 3e-06 raiz = 6593251170.466962\n",
      " A = 3e-06 raiz = 203543545925.11368\n",
      " A = 3e-06 raiz = 2.299024849556508e+21\n",
      " A = 3e-06 raiz = 1.2660274235562832e+27\n",
      " A = 3e-06 raiz = 1.4066915984635102e+58\n",
      " A = 3e-06 raiz = 8.70033225784283e+73\n",
      " A = 3e-06 raiz = 1.4918007697989827e+166\n",
      " A = 3e-06 raiz = 6.0012961135028675e+214\n",
      " A = 3e-06 raiz = inf\n",
      " A = 3e-06 raiz = inf\n",
      " A = 3e-06 raiz = inf\n",
      " A = 3e-06 raiz = inf\n",
      " A = 3e-06 raiz = inf\n",
      " A = 3e-06 raiz = inf\n",
      " A = 3e-06 raiz = inf\n",
      " A = 3e-06 raiz = inf\n",
      " A = 3e-06 raiz = inf\n",
      " A = 3e-06 raiz = inf\n",
      " A = 3e-06 raiz = inf\n",
      " A = 3e-06 raiz = inf\n",
      " A = 3e-06 raiz = inf\n",
      " A = 3e-06 raiz = inf\n",
      " A = 3e-06 raiz = inf\n",
      " A = 3e-06 raiz = inf\n",
      " A = 3e-06 raiz = inf\n",
      " A = 3e-06 raiz = inf\n",
      " A = 3e-06 raiz = inf\n",
      " A = 3e-06 raiz = inf\n",
      " A = 3e-06 raiz = inf\n",
      "SEQUENCE\n"
     ]
    },
    {
     "name": "stderr",
     "output_type": "stream",
     "text": [
      "<ipython-input-52-77183ddc908b>:12: RuntimeWarning: overflow encountered in double_scalars\n",
      "  raiz_cubica = ((1 + x[0] ** 2) ** 1.5)\n"
     ]
    },
    {
     "data": {
      "text/plain": "<Figure size 576x288 with 1 Axes>",
      "image/png": "[encoded data removed]"
     },
     "metadata": {
      "needs_background": "light"
     },
     "output_type": "display_data"
    },
    {
     "data": {
      "text/plain": "<Figure size 576x288 with 1 Axes>",
      "image/png": "[encoded data removed]"
     },
     "metadata": {
      "needs_background": "light"
     },
     "output_type": "display_data"
    },
    {
     "data": {
      "text/plain": "<Figure size 576x288 with 1 Axes>",
      "image/png": "[encoded data removed]"
     },
     "metadata": {
      "needs_background": "light"
     },
     "output_type": "display_data"
    }
   ],
   "source": [
    "# Sequencia de Degrau\n",
    "level = np.arange(0, 200, 10)\n",
    "width = math.floor(len(t)/len(level))\n",
    "ones = np.ones((1,width))\n",
    "arr = [ level[i] * j  for i in range(len(level)) for j in ones]\n",
    "u = np.array((arr)).flatten()\n",
    "print(u)\n",
    "run_rk(t.copy() ,x.copy(), u.copy() , h)\n",
    "print(\"SEQUENCE\")"
   ],
   "metadata": {
    "collapsed": false,
    "pycharm": {
     "name": "#%%\n"
    }
   }
  },
  {
   "cell_type": "code",
   "execution_count": 58,
   "metadata": {
    "collapsed": false,
    "jupyter": {
     "outputs_hidden": false
    },
    "pycharm": {
     "name": "#%%\n"
    }
   },
   "outputs": [
    {
     "name": "stdout",
     "output_type": "stream",
     "text": [
      " A = 3e-06 raiz = 1.0\n",
      " A = 3e-06 raiz = 1.0\n",
      " A = 3e-06 raiz = 1.000337518983663\n",
      " A = 3e-06 raiz = 1.0013503037044527\n",
      " A = 3e-06 raiz = 1.0013506076253134\n",
      " A = 3e-06 raiz = 1.0054072920752164\n",
      " A = 3e-06 raiz = 1.008456973420482\n",
      " A = 3e-06 raiz = 1.021745012346355\n",
      " A = 3e-06 raiz = 1.0217413555471326\n",
      " A = 3e-06 raiz = 1.049233296082154\n",
      " A = 3e-06 raiz = 1.0580338912964886\n",
      " A = 3e-06 raiz = 1.1131573253025688\n",
      " A = 3e-06 raiz = 1.1129992079713584\n",
      " A = 3e-06 raiz = 1.2051953062300749\n",
      " A = 3e-06 raiz = 1.2250960738229688\n",
      " A = 3e-06 raiz = 1.3845392654565345\n",
      " A = 3e-06 raiz = 1.3833505720967243\n",
      " A = 3e-06 raiz = 1.629444236544165\n",
      " A = 3e-06 raiz = 1.6758570792286513\n",
      " A = 3e-06 raiz = 2.0938968691268447\n",
      " A = 3e-06 raiz = 2.0877922782145575\n",
      " A = 3e-06 raiz = 2.725079322357558\n",
      " A = 3e-06 raiz = 2.789832337533836\n",
      " A = 3e-06 raiz = 3.785050667791716\n",
      " A = 3e-06 raiz = 3.7690832885266623\n",
      " A = 3e-06 raiz = 5.194103099191928\n",
      " A = 3e-06 raiz = 5.405243309502114\n",
      " A = 3e-06 raiz = 7.8074252131553905\n",
      " A = 3e-06 raiz = 7.745727291862102\n",
      " A = 3e-06 raiz = 11.324732285447325\n",
      " A = 3e-06 raiz = 12.13233845332011\n",
      " A = 3e-06 raiz = 19.20038462530012\n",
      " A = 3e-06 raiz = 18.925304335176396\n",
      " A = 3e-06 raiz = 30.450108933782595\n",
      " A = 3e-06 raiz = 34.565611016298575\n",
      " A = 3e-06 raiz = 65.40957649169773\n",
      " A = 3e-06 raiz = 63.67780945316908\n",
      " A = 3e-06 raiz = 124.34434855315696\n",
      " A = 3e-06 raiz = 162.76966503895642\n",
      " A = 3e-06 raiz = 482.48418841845245\n",
      " A = 3e-06 raiz = 462.4160315954335\n",
      " A = 3e-06 raiz = 1535.3636329767255\n",
      " A = 3e-06 raiz = 3371.277493949323\n",
      " A = 3e-06 raiz = 56452.734405773816\n",
      " A = 3e-06 raiz = 75018.49977984272\n",
      " A = 3e-06 raiz = 9637984.187886983\n",
      " A = 3e-06 raiz = 2395814684.844917\n",
      " A = 3e-06 raiz = 2.426884596376722e+16\n",
      " A = 3e-06 raiz = 1.392040428508154e+22\n",
      " A = 3e-06 raiz = 1.7867257857140674e+42\n",
      " A = 3e-06 raiz = 9.103954527623461e+60\n",
      " A = 3e-06 raiz = 1.5400594270506868e+122\n",
      " A = 3e-06 raiz = 7.545538502846213e+176\n",
      " A = 3e-06 raiz = inf\n",
      " A = 3e-06 raiz = inf\n",
      " A = 3e-06 raiz = inf\n",
      " A = 3e-06 raiz = inf\n",
      " A = 3e-06 raiz = inf\n",
      " A = 3e-06 raiz = inf\n",
      " A = 3e-06 raiz = inf\n",
      " A = 3e-06 raiz = inf\n",
      " A = 3e-06 raiz = inf\n",
      " A = 3e-06 raiz = inf\n",
      " A = 3e-06 raiz = inf\n",
      " A = 3e-06 raiz = inf\n",
      " A = 3e-06 raiz = inf\n",
      " A = 3e-06 raiz = inf\n",
      " A = 3e-06 raiz = inf\n"
     ]
    },
    {
     "name": "stderr",
     "output_type": "stream",
     "text": [
      "<ipython-input-52-77183ddc908b>:12: RuntimeWarning: overflow encountered in double_scalars\n",
      "  raiz_cubica = ((1 + x[0] ** 2) ** 1.5)\n"
     ]
    },
    {
     "ename": "IndexError",
     "evalue": "index 18 is out of bounds for axis 0 with size 18",
     "output_type": "error",
     "traceback": [
      "\u001B[0;31m---------------------------------------------------------------------------\u001B[0m",
      "\u001B[0;31mIndexError\u001B[0m                                Traceback (most recent call last)",
      "\u001B[0;32m<ipython-input-58-bd2bc11c9d5c>\u001B[0m in \u001B[0;36m<module>\u001B[0;34m\u001B[0m\n\u001B[1;32m      1\u001B[0m \u001B[0;31m# Pulso\u001B[0m\u001B[0;34m\u001B[0m\u001B[0;34m\u001B[0m\u001B[0;34m\u001B[0m\u001B[0m\n\u001B[1;32m      2\u001B[0m \u001B[0mu\u001B[0m \u001B[0;34m=\u001B[0m \u001B[0;36m100\u001B[0m \u001B[0;34m*\u001B[0m \u001B[0mnp\u001B[0m\u001B[0;34m.\u001B[0m\u001B[0mappend\u001B[0m\u001B[0;34m(\u001B[0m\u001B[0mnp\u001B[0m\u001B[0;34m.\u001B[0m\u001B[0mappend\u001B[0m\u001B[0;34m(\u001B[0m\u001B[0mnp\u001B[0m\u001B[0;34m.\u001B[0m\u001B[0mzeros\u001B[0m\u001B[0;34m(\u001B[0m\u001B[0;34m(\u001B[0m\u001B[0mmath\u001B[0m\u001B[0;34m.\u001B[0m\u001B[0mfloor\u001B[0m\u001B[0;34m(\u001B[0m\u001B[0mlen\u001B[0m\u001B[0;34m(\u001B[0m\u001B[0mt\u001B[0m\u001B[0;34m)\u001B[0m\u001B[0;34m/\u001B[0m\u001B[0;36m3\u001B[0m\u001B[0;34m)\u001B[0m\u001B[0;34m,\u001B[0m \u001B[0;36m1\u001B[0m\u001B[0;34m)\u001B[0m\u001B[0;34m)\u001B[0m\u001B[0;34m,\u001B[0m \u001B[0mnp\u001B[0m\u001B[0;34m.\u001B[0m\u001B[0mfull\u001B[0m\u001B[0;34m(\u001B[0m\u001B[0;34m(\u001B[0m\u001B[0mmath\u001B[0m\u001B[0;34m.\u001B[0m\u001B[0mfloor\u001B[0m\u001B[0;34m(\u001B[0m\u001B[0mlen\u001B[0m\u001B[0;34m(\u001B[0m\u001B[0mt\u001B[0m\u001B[0;34m)\u001B[0m\u001B[0;34m/\u001B[0m\u001B[0;36m3\u001B[0m\u001B[0;34m)\u001B[0m\u001B[0;34m,\u001B[0m \u001B[0;36m1\u001B[0m\u001B[0;34m)\u001B[0m\u001B[0;34m,\u001B[0m \u001B[0;36m1\u001B[0m\u001B[0;34m)\u001B[0m\u001B[0;34m)\u001B[0m\u001B[0;34m,\u001B[0m \u001B[0mnp\u001B[0m\u001B[0;34m.\u001B[0m\u001B[0mzeros\u001B[0m\u001B[0;34m(\u001B[0m\u001B[0;34m(\u001B[0m\u001B[0mmath\u001B[0m\u001B[0;34m.\u001B[0m\u001B[0mfloor\u001B[0m\u001B[0;34m(\u001B[0m\u001B[0mlen\u001B[0m\u001B[0;34m(\u001B[0m\u001B[0mt\u001B[0m\u001B[0;34m)\u001B[0m\u001B[0;34m/\u001B[0m\u001B[0;36m3\u001B[0m\u001B[0;34m)\u001B[0m\u001B[0;34m,\u001B[0m \u001B[0;36m1\u001B[0m\u001B[0;34m)\u001B[0m\u001B[0;34m)\u001B[0m\u001B[0;34m)\u001B[0m\u001B[0;34m\u001B[0m\u001B[0;34m\u001B[0m\u001B[0m\n\u001B[0;32m----> 3\u001B[0;31m \u001B[0mrun_rk\u001B[0m\u001B[0;34m(\u001B[0m\u001B[0mt\u001B[0m\u001B[0;34m.\u001B[0m\u001B[0mcopy\u001B[0m\u001B[0;34m(\u001B[0m\u001B[0;34m)\u001B[0m \u001B[0;34m,\u001B[0m\u001B[0mx\u001B[0m\u001B[0;34m.\u001B[0m\u001B[0mcopy\u001B[0m\u001B[0;34m(\u001B[0m\u001B[0;34m)\u001B[0m\u001B[0;34m,\u001B[0m \u001B[0mu\u001B[0m\u001B[0;34m.\u001B[0m\u001B[0mcopy\u001B[0m\u001B[0;34m(\u001B[0m\u001B[0;34m)\u001B[0m \u001B[0;34m,\u001B[0m \u001B[0mh\u001B[0m\u001B[0;34m)\u001B[0m\u001B[0;34m\u001B[0m\u001B[0;34m\u001B[0m\u001B[0m\n\u001B[0m\u001B[1;32m      4\u001B[0m \u001B[0;34m\u001B[0m\u001B[0m\n",
      "\u001B[0;32m<ipython-input-54-fe252dfcfd28>\u001B[0m in \u001B[0;36mrun_rk\u001B[0;34m(t, x, u, h)\u001B[0m\n\u001B[1;32m      2\u001B[0m     \u001B[0mresult\u001B[0m \u001B[0;34m=\u001B[0m \u001B[0;32mNone\u001B[0m\u001B[0;34m\u001B[0m\u001B[0;34m\u001B[0m\u001B[0m\n\u001B[1;32m      3\u001B[0m     \u001B[0;32mfor\u001B[0m \u001B[0mk\u001B[0m \u001B[0;32min\u001B[0m \u001B[0mrange\u001B[0m\u001B[0;34m(\u001B[0m\u001B[0;36m1\u001B[0m\u001B[0;34m,\u001B[0m \u001B[0mlen\u001B[0m\u001B[0;34m(\u001B[0m\u001B[0mt\u001B[0m\u001B[0;34m)\u001B[0m\u001B[0;34m)\u001B[0m\u001B[0;34m:\u001B[0m\u001B[0;34m\u001B[0m\u001B[0;34m\u001B[0m\u001B[0m\n\u001B[0;32m----> 4\u001B[0;31m         \u001B[0mresult\u001B[0m \u001B[0;34m=\u001B[0m \u001B[0mrk_cord\u001B[0m\u001B[0;34m(\u001B[0m\u001B[0mx\u001B[0m\u001B[0;34m[\u001B[0m\u001B[0;34m:\u001B[0m\u001B[0;34m,\u001B[0m \u001B[0mk\u001B[0m \u001B[0;34m-\u001B[0m \u001B[0;36m1\u001B[0m\u001B[0;34m]\u001B[0m\u001B[0;34m.\u001B[0m\u001B[0mcopy\u001B[0m\u001B[0;34m(\u001B[0m\u001B[0;34m)\u001B[0m\u001B[0;34m,\u001B[0m \u001B[0mu\u001B[0m\u001B[0;34m[\u001B[0m\u001B[0mk\u001B[0m\u001B[0;34m]\u001B[0m\u001B[0;34m,\u001B[0m \u001B[0mu\u001B[0m\u001B[0;34m[\u001B[0m\u001B[0mk\u001B[0m\u001B[0;34m]\u001B[0m\u001B[0;34m,\u001B[0m \u001B[0mh\u001B[0m\u001B[0;34m,\u001B[0m \u001B[0mt\u001B[0m\u001B[0;34m[\u001B[0m\u001B[0mk\u001B[0m\u001B[0;34m]\u001B[0m\u001B[0;34m)\u001B[0m\u001B[0;34m\u001B[0m\u001B[0;34m\u001B[0m\u001B[0m\n\u001B[0m\u001B[1;32m      5\u001B[0m         \u001B[0mx\u001B[0m\u001B[0;34m[\u001B[0m\u001B[0;34m:\u001B[0m\u001B[0;34m,\u001B[0m \u001B[0mk\u001B[0m\u001B[0;34m]\u001B[0m \u001B[0;34m=\u001B[0m \u001B[0mresult\u001B[0m\u001B[0;34m\u001B[0m\u001B[0;34m\u001B[0m\u001B[0m\n\u001B[1;32m      6\u001B[0m \u001B[0;34m\u001B[0m\u001B[0m\n",
      "\u001B[0;31mIndexError\u001B[0m: index 18 is out of bounds for axis 0 with size 18"
     ]
    }
   ],
   "source": [
    "# Pulso\n",
    "u = 100 * np.append(np.append(np.zeros((math.floor(len(t)/3), 1)), np.full((math.floor(len(t)/3), 1), 1)), np.zeros((math.floor(len(t)/3), 1)))\n",
    "run_rk(t.copy() ,x.copy(), u.copy() , h)"
   ]
  },
  {
   "cell_type": "code",
   "execution_count": null,
   "metadata": {},
   "outputs": [],
   "source": [
    "# Crescente\n",
    "u = 200 * np.array([U * math.sin(omega * i * Ts) for i in t])  # np.zeros((len(t), 1))\n",
    "run_rk(t.copy() ,x.copy(), u.copy() , h)"
   ]
  },
  {
   "cell_type": "code",
   "execution_count": null,
   "metadata": {
    "pycharm": {
     "name": "#%%\n"
    }
   },
   "outputs": [],
   "source": [
    "# Senoidal\n",
    "u = 200 * np.sin(np.array(t))  # np.zeros((len(t), 1))\n",
    "run_rk(t.copy() ,x.copy(), u.copy() , h)\n"
   ]
  },
  {
   "cell_type": "markdown",
   "source": [
    "# Referência\n",
    "[Teoria de simulação de Van Der Pol](https://hal.archives-ouvertes.fr/hal-00734058/document)\n",
    "\n",
    "[Teoria do uso de modelo de Van Der Pol](https://www.johndcook.com/blog/2019/12/26/van-der-pol-period/)\n",
    "\n",
    "[Trabalho prático utilizado para o modelo](https://repository.library.northeastern.edu/files/neu:336724/fulltext.pdf)\n",
    "\n",
    "[Controle e Sistemas](ftp://ftp.dca.fee.unicamp.br/pub/docs/vonzuben/ea932_03/aulas/topico7_03.pdf)"
   ],
   "metadata": {
    "collapsed": false
   }
  }
 ],
 "metadata": {
  "kernelspec": {
   "display_name": "Python 3",
   "language": "python",
   "name": "python3"
  },
  "language_info": {
   "codemirror_mode": {
    "name": "ipython",
    "version": 3
   },
   "file_extension": ".py",
   "mimetype": "text/x-python",
   "name": "python",
   "nbconvert_exporter": "python",
   "pygments_lexer": "ipython3",
   "version": "3.8.5"
  }
 },
 "nbformat": 4,
 "nbformat_minor": 4
}